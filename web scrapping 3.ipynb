{
 "cells": [
  {
   "cell_type": "markdown",
   "metadata": {},
   "source": [
    "# Web_Scrapping_Selenium-Assignment3"
   ]
  },
  {
   "cell_type": "code",
   "execution_count": 1,
   "metadata": {},
   "outputs": [],
   "source": [
    "# import useful Libraries\n",
    "import pandas as pd\n",
    "import selenium\n",
    "from selenium import webdriver\n",
    "from selenium.common.exceptions import StaleElementReferenceException, NoSuchElementException"
   ]
  },
  {
   "cell_type": "markdown",
   "metadata": {},
   "source": [
    "# Q1. Write a python program which searches all the product under a particular product vertical\n",
    "from www.amazon.in. The product verticals to be searched will be taken as input from user. For e.g. If user input is ‘guitar’. Then search for guitars."
   ]
  },
  {
   "cell_type": "code",
   "execution_count": 2,
   "metadata": {},
   "outputs": [],
   "source": [
    "driver = webdriver.Chrome(r\"C:\\Users\\anshu\\Downloads\\chromedriver_win32\\chromedriver.exe\")"
   ]
  },
  {
   "cell_type": "code",
   "execution_count": 3,
   "metadata": {},
   "outputs": [],
   "source": [
    "driver.get('https://www.amazon.in/')"
   ]
  },
  {
   "cell_type": "code",
   "execution_count": 4,
   "metadata": {},
   "outputs": [
    {
     "name": "stdout",
     "output_type": "stream",
     "text": [
      "Enter product:Airpods\n"
     ]
    }
   ],
   "source": [
    "search = input(\"Enter product:\")"
   ]
  },
  {
   "cell_type": "code",
   "execution_count": 5,
   "metadata": {},
   "outputs": [],
   "source": [
    "search_bar = driver.find_element_by_id(\"twotabsearchtextbox\")\n",
    "search_bar.clear()\n",
    "search_bar.send_keys(search)                                  \n",
    "search_button = driver.find_element_by_xpath('//span[@id=\"nav-search-submit-text\"]')\n",
    "search_button.click()"
   ]
  },
  {
   "cell_type": "markdown",
   "metadata": {},
   "source": [
    "# Q2. In the above question, now scrape the following details of each product listed in first 3 pages\n",
    "of your search results and save it in a dataframe and csv. In case if any product vertical has less than 3 pages in search results then scrape all the products available under that product vertical. Details to be scraped are: \"Brand Name\", \"Name of the Product\", \"Rating\", \"No. of Ratings\", \"Price\", \"Return/Exchange\", \"Expected Delivery\", \"Availability\", \"Other Details\" and “Product URL”. In case, if any of the details are missing for any of the product then replace it by “-“."
   ]
  },
  {
   "cell_type": "code",
   "execution_count": 6,
   "metadata": {},
   "outputs": [],
   "source": [
    "Brand_Name = []\n",
    "Product_Name = []\n",
    "Rating = []\n",
    "No_of_Ratings = []\n",
    "Price = []\n",
    "Return_Exchange = []\n",
    "Expected_Delivery = []\n",
    "Availability = []\n",
    "Other_Details = []\n",
    "Product_URL = []"
   ]
  },
  {
   "cell_type": "code",
   "execution_count": 7,
   "metadata": {},
   "outputs": [],
   "source": [
    "urls=[i.get_attribute(\"href\")for i in driver.find_elements_by_xpath(\"//h2[@class='a-size-mini a-spacing-none a-color-base s-line-clamp-2']/a\")]\n"
   ]
  },
  {
   "cell_type": "code",
   "execution_count": 8,
   "metadata": {},
   "outputs": [],
   "source": [
    "urls=[i.get_attribute(\"href\")for i in driver.find_elements_by_xpath(\"//h2[@class='a-size-mini a-spacing-none a-color-base s-line-clamp-2']/a\")]\n",
    "\n",
    "for url in urls[0:100]:\n",
    "    \n",
    "        Product_URL.append(url)\n",
    "        driver.get(url)        \n",
    "        \n",
    "        #for scrapping brand names\n",
    "        b=driver.find_elements_by_xpath(\"//a[@id='bylineInfo']\")\n",
    "        for i in b:\n",
    "            if i.text is None :\n",
    "                Brand_Name.append('----') \n",
    "            else:\n",
    "                Brand_Name.append(i.text)\n",
    "        \n",
    "        \n",
    "        #scraping Product Names\n",
    "        pn=driver.find_elements_by_xpath(\"//h1[@id='title']\")\n",
    "        for i in b:\n",
    "            if i.text is None :\n",
    "                Product_Name.append('----') \n",
    "            else:\n",
    "                Product_Name.append(i.text)\n",
    "                \n",
    "        \n",
    "        # scraping Rating\n",
    "        r=driver.find_elements_by_xpath(\"//span[@data-hook='rating-out-of-text']\")\n",
    "        for i in r:\n",
    "            if i.text is None :\n",
    "                Rating.append('----') \n",
    "            else:\n",
    "                Rating.append(i.text)\n",
    "\n",
    "    \n",
    "        # scraping No_of_Ratings\n",
    "        nr=driver.find_elements_by_xpath(\"//span[@id='acrCustomerReviewText']\")\n",
    "        for i in nr:\n",
    "            if i.text is None :\n",
    "                No_of_Ratings.append('----') \n",
    "            else:\n",
    "                No_of_Ratings.append(i.text)\n",
    "        \n",
    "\n",
    "        # scraping Price\n",
    "        pr=driver.find_elements_by_xpath(\"//span[@id='priceblock_ourprice']\")\n",
    "        for i in nr:\n",
    "            if i.text is None :\n",
    "                Price.append('----') \n",
    "            else:\n",
    "                Price.append(i.text)\n",
    "\n",
    "        \n",
    "        # scraping Expected Delivery\n",
    "        ed = driver.find_elements_by_xpath(\"//div[@id='dynamicDeliveryMessage_feature_div']\")\n",
    "        for i in ed:\n",
    "            if i.text is None :\n",
    "                Expected_Delivery.append('----') \n",
    "            else:\n",
    "                Expected_Delivery.append(i.text)\n",
    "\n",
    "        \n",
    "        # scraping Return/Exchange\n",
    "        re = driver.find_elements_by_xpath(\"//a[@id='productSupportAndReturnPolicy-return-policy-anchor-text']\")\n",
    "        for i in re:\n",
    "            if i.text is None :\n",
    "                Return_Exchange.append('----') \n",
    "            else:\n",
    "                Return_Exchange.append(i.text) \n",
    "        Return_Exchange[0:1]        \n",
    "        \n",
    "        # scraping Availability\n",
    "        a=driver.find_elements_by_xpath(\"//div[@id='availability']/span\")\n",
    "        for i in a:\n",
    "            if i.text is None :\n",
    "                Availability.append('----') \n",
    "            else:\n",
    "                Availability.append(i.text)\n",
    "\n",
    "    \n",
    "        # scraping other details\n",
    "        od=driver.find_elements_by_xpath(\"//span[@id='price-shipping-message']\")\n",
    "        for i in a:\n",
    "            if i.text is None :\n",
    "                Other_Details.append('----') \n",
    "            else:\n",
    "                Other_Details.append(i.text)"
   ]
  },
  {
   "cell_type": "code",
   "execution_count": 9,
   "metadata": {},
   "outputs": [
    {
     "data": {
      "text/plain": [
       "['FREE delivery: Tuesday, June 8 Details',\n",
       " 'FREE delivery: Wednesday, June 9 Details\\nFastest delivery: Tuesday, June 8 Details',\n",
       " 'FREE delivery: Thursday, June 10 Details',\n",
       " 'FREE delivery: Wednesday, June 9 Details\\nFastest delivery: Tuesday, June 8 Details',\n",
       " '₹ 60.00 delivery: Thursday, June 10 Details',\n",
       " 'FREE delivery: Thursday, June 10 Details',\n",
       " '₹ 60.00 delivery: Thursday, June 10 Details',\n",
       " 'FREE delivery: Tuesday, June 8 Details',\n",
       " 'FREE delivery: Wednesday, June 9 Details\\nFastest delivery: Tuesday, June 8 Details',\n",
       " '₹ 74.00 delivery: June 10 - 12 Details',\n",
       " 'FREE delivery: June 9 - 14 Details',\n",
       " '₹ 74.00 delivery: June 10 - 12 Details',\n",
       " 'FREE delivery: July 15 - 19 Details',\n",
       " 'FREE delivery: Friday, June 11 Details',\n",
       " 'FREE delivery: Monday, June 7 Details',\n",
       " 'FREE delivery: Wednesday, June 9 Details\\nFastest delivery: Tuesday, June 8 Details',\n",
       " 'FREE delivery: Wednesday, June 9 Details\\nFastest delivery: Tuesday, June 8 Details',\n",
       " 'FREE delivery: Tuesday, June 8 on orders over ₹ 499.00 shipped by Amazon Details\\nFastest delivery: Monday, June 7\\nOrder within 1 hr and 3 mins Details']"
      ]
     },
     "execution_count": 9,
     "metadata": {},
     "output_type": "execute_result"
    }
   ],
   "source": [
    "Expected_Delivery[0:100]"
   ]
  },
  {
   "cell_type": "code",
   "execution_count": 10,
   "metadata": {},
   "outputs": [
    {
     "data": {
      "text/plain": [
       "['4.4 out of 5',\n",
       " '4.3 out of 5',\n",
       " '4.3 out of 5',\n",
       " '3 out of 5',\n",
       " '3.3 out of 5',\n",
       " '4.4 out of 5',\n",
       " '3.6 out of 5',\n",
       " '3.9 out of 5',\n",
       " '1 out of 5',\n",
       " '4 out of 5',\n",
       " '3.6 out of 5',\n",
       " '3.3 out of 5',\n",
       " '3.5 out of 5',\n",
       " '3.9 out of 5',\n",
       " '3.9 out of 5']"
      ]
     },
     "execution_count": 10,
     "metadata": {},
     "output_type": "execute_result"
    }
   ],
   "source": [
    "Rating[0:100]"
   ]
  },
  {
   "cell_type": "code",
   "execution_count": 11,
   "metadata": {},
   "outputs": [
    {
     "data": {
      "text/plain": [
       "['10-day replacement only',\n",
       " '10-day replacement only',\n",
       " '10-day replacement only',\n",
       " '10-day replacement only']"
      ]
     },
     "execution_count": 11,
     "metadata": {},
     "output_type": "execute_result"
    }
   ],
   "source": [
    "Return_Exchange[0:100]"
   ]
  },
  {
   "cell_type": "code",
   "execution_count": 12,
   "metadata": {},
   "outputs": [
    {
     "name": "stdout",
     "output_type": "stream",
     "text": [
      "18\n",
      "18\n",
      "15\n",
      "26\n",
      "26\n",
      "4\n",
      "18\n",
      "18\n",
      "18\n",
      "18\n"
     ]
    }
   ],
   "source": [
    "print(len(Brand_Name))\n",
    "print(len(Product_Name))\n",
    "print(len(Rating))\n",
    "print(len(No_of_Ratings))\n",
    "print(len(Price))\n",
    "print(len(Return_Exchange))\n",
    "print(len(Expected_Delivery))\n",
    "print(len(Availability))\n",
    "print(len(Other_Details))\n",
    "print(len(Product_URL))"
   ]
  },
  {
   "cell_type": "code",
   "execution_count": 13,
   "metadata": {},
   "outputs": [],
   "source": [
    "import pandas as pd\n",
    "table=pd.DataFrame({})\n",
    "\n",
    "table['Brand Name']=Brand_Name[:3]\n",
    "table['Product Name']=Product_Name[:3]\n",
    "table['Return/Exchane']=Return_Exchange[:3]\n",
    "table['No of Ratings']=No_of_Ratings[:3]\n",
    "table['Rating']=Rating[:3]\n",
    "table['Price']=Price[:3]\n",
    "table['Expected Delivery']=Expected_Delivery[:3]\n",
    "table['Availability']=Availability[:3]\n",
    "table['Other Details']=Other_Details[:3]\n",
    "table['Product URL']=Product_URL[:3]"
   ]
  },
  {
   "cell_type": "code",
   "execution_count": 14,
   "metadata": {},
   "outputs": [
    {
     "data": {
      "text/html": [
       "<div>\n",
       "<style scoped>\n",
       "    .dataframe tbody tr th:only-of-type {\n",
       "        vertical-align: middle;\n",
       "    }\n",
       "\n",
       "    .dataframe tbody tr th {\n",
       "        vertical-align: top;\n",
       "    }\n",
       "\n",
       "    .dataframe thead th {\n",
       "        text-align: right;\n",
       "    }\n",
       "</style>\n",
       "<table border=\"1\" class=\"dataframe\">\n",
       "  <thead>\n",
       "    <tr style=\"text-align: right;\">\n",
       "      <th></th>\n",
       "      <th>Brand Name</th>\n",
       "      <th>Product Name</th>\n",
       "      <th>Return/Exchane</th>\n",
       "      <th>No of Ratings</th>\n",
       "      <th>Rating</th>\n",
       "      <th>Price</th>\n",
       "      <th>Expected Delivery</th>\n",
       "      <th>Availability</th>\n",
       "      <th>Other Details</th>\n",
       "      <th>Product URL</th>\n",
       "    </tr>\n",
       "  </thead>\n",
       "  <tbody>\n",
       "    <tr>\n",
       "      <th>0</th>\n",
       "      <td>Visit the Apple Store</td>\n",
       "      <td>Visit the Apple Store</td>\n",
       "      <td>10-day replacement only</td>\n",
       "      <td>7,938 ratings</td>\n",
       "      <td>4.4 out of 5</td>\n",
       "      <td>7,938 ratings</td>\n",
       "      <td>FREE delivery: Tuesday, June 8 Details</td>\n",
       "      <td>In stock.</td>\n",
       "      <td>In stock.</td>\n",
       "      <td>https://www.amazon.in/gp/slredirect/picassoRed...</td>\n",
       "    </tr>\n",
       "    <tr>\n",
       "      <th>1</th>\n",
       "      <td>Visit the Apple Store</td>\n",
       "      <td>Visit the Apple Store</td>\n",
       "      <td>10-day replacement only</td>\n",
       "      <td>3,406 ratings</td>\n",
       "      <td>4.3 out of 5</td>\n",
       "      <td>3,406 ratings</td>\n",
       "      <td>FREE delivery: Wednesday, June 9 Details\\nFast...</td>\n",
       "      <td>In stock.</td>\n",
       "      <td>In stock.</td>\n",
       "      <td>https://www.amazon.in/gp/slredirect/picassoRed...</td>\n",
       "    </tr>\n",
       "    <tr>\n",
       "      <th>2</th>\n",
       "      <td>Brand: Pro Covers</td>\n",
       "      <td>Brand: Pro Covers</td>\n",
       "      <td>10-day replacement only</td>\n",
       "      <td>3,406 ratings</td>\n",
       "      <td>4.3 out of 5</td>\n",
       "      <td>3,406 ratings</td>\n",
       "      <td>FREE delivery: Thursday, June 10 Details</td>\n",
       "      <td>In stock.</td>\n",
       "      <td>In stock.</td>\n",
       "      <td>https://www.amazon.in/Pro-Covers-Compatible-Wi...</td>\n",
       "    </tr>\n",
       "  </tbody>\n",
       "</table>\n",
       "</div>"
      ],
      "text/plain": [
       "              Brand Name           Product Name           Return/Exchane  \\\n",
       "0  Visit the Apple Store  Visit the Apple Store  10-day replacement only   \n",
       "1  Visit the Apple Store  Visit the Apple Store  10-day replacement only   \n",
       "2      Brand: Pro Covers      Brand: Pro Covers  10-day replacement only   \n",
       "\n",
       "   No of Ratings        Rating          Price  \\\n",
       "0  7,938 ratings  4.4 out of 5  7,938 ratings   \n",
       "1  3,406 ratings  4.3 out of 5  3,406 ratings   \n",
       "2  3,406 ratings  4.3 out of 5  3,406 ratings   \n",
       "\n",
       "                                   Expected Delivery Availability  \\\n",
       "0             FREE delivery: Tuesday, June 8 Details    In stock.   \n",
       "1  FREE delivery: Wednesday, June 9 Details\\nFast...    In stock.   \n",
       "2           FREE delivery: Thursday, June 10 Details    In stock.   \n",
       "\n",
       "  Other Details                                        Product URL  \n",
       "0     In stock.  https://www.amazon.in/gp/slredirect/picassoRed...  \n",
       "1     In stock.  https://www.amazon.in/gp/slredirect/picassoRed...  \n",
       "2     In stock.  https://www.amazon.in/Pro-Covers-Compatible-Wi...  "
      ]
     },
     "execution_count": 14,
     "metadata": {},
     "output_type": "execute_result"
    }
   ],
   "source": [
    "table"
   ]
  },
  {
   "cell_type": "markdown",
   "metadata": {},
   "source": [
    "# Q3. Write a python program to access the search bar and search button on images.google.com and\n",
    "scrape 100 images each for keywords ‘fruits’, ‘cars’ and ‘Machine Learning’."
   ]
  },
  {
   "cell_type": "code",
   "execution_count": 15,
   "metadata": {},
   "outputs": [],
   "source": [
    "driver = webdriver.Chrome(r\"C:\\Users\\anshu\\Downloads\\chromedriver_win32\\chromedriver.exe\")"
   ]
  },
  {
   "cell_type": "code",
   "execution_count": 16,
   "metadata": {},
   "outputs": [],
   "source": [
    "driver.get('https://images.google.com/?gws_rd=ssl')"
   ]
  },
  {
   "cell_type": "code",
   "execution_count": 17,
   "metadata": {},
   "outputs": [],
   "source": [
    "search_bar = driver.find_element_by_xpath('//input[@class=\"gLFyf gsfi\"]')\n",
    "search_bar.clear()\n",
    "search_bar.send_keys('fruits')                                  \n",
    "search_button = driver.find_element_by_xpath('//span[@class=\"z1asCe MZy1Rb\"]')\n",
    "search_button.click()"
   ]
  },
  {
   "cell_type": "code",
   "execution_count": 18,
   "metadata": {},
   "outputs": [
    {
     "name": "stdout",
     "output_type": "stream",
     "text": [
      "https://www.google.com/imgres?imgurl=https%3A%2F%2Fimages-na.ssl-images-amazon.com%2Fimages%2FI%2F91WdMqaFL6L.jpg&imgrefurl=https%3A%2F%2Fwww.amazon.in%2FFruits-All-One-Dreamland-Publications%2Fdp%2F8184510594&tbnid=DJZ90QQP1VuhEM&vet=12ahUKEwjZ9PO_gYDxAhWe0XMBHa3GCeMQMygAegUIARDRAQ..i&docid=zQB8dyYb89lltM&w=1706&h=2560&q=fruits&ved=2ahUKEwjZ9PO_gYDxAhWe0XMBHa3GCeMQMygAegUIARDRAQ\n",
      "None\n",
      "None\n",
      "None\n",
      "None\n",
      "None\n",
      "None\n",
      "None\n",
      "None\n",
      "None\n",
      "None\n",
      "None\n",
      "None\n",
      "None\n",
      "None\n",
      "None\n",
      "None\n",
      "None\n",
      "None\n",
      "None\n",
      "None\n",
      "None\n",
      "None\n",
      "None\n",
      "None\n",
      "None\n",
      "None\n",
      "None\n",
      "None\n",
      "None\n",
      "None\n",
      "None\n",
      "None\n",
      "None\n",
      "None\n",
      "None\n",
      "None\n",
      "None\n",
      "None\n",
      "None\n",
      "None\n",
      "None\n",
      "None\n",
      "None\n",
      "None\n",
      "None\n",
      "None\n",
      "None\n"
     ]
    }
   ],
   "source": [
    "urls = driver.find_elements_by_xpath(\"//a[@class='wXeWr islib nfEiy mM5pbd']\")\n",
    "\n",
    "for urls in urls[0:100]:\n",
    "    \n",
    "        driver.find_element_by_xpath(\"//div[@class='bRMDJf islir']\").click()        \n",
    "\n",
    "        \n",
    "\n",
    "        print(urls.get_attribute(\"href\"))"
   ]
  },
  {
   "cell_type": "code",
   "execution_count": 19,
   "metadata": {},
   "outputs": [],
   "source": [
    "driver = webdriver.Chrome(r\"C:\\Users\\anshu\\Downloads\\chromedriver_win32\\chromedriver.exe\")"
   ]
  },
  {
   "cell_type": "code",
   "execution_count": 20,
   "metadata": {},
   "outputs": [],
   "source": [
    "driver.get('https://images.google.com/?gws_rd=ssl')"
   ]
  },
  {
   "cell_type": "code",
   "execution_count": 21,
   "metadata": {},
   "outputs": [],
   "source": [
    "search_bar = driver.find_element_by_xpath('//input[@class=\"gLFyf gsfi\"]')\n",
    "search_bar.clear()\n",
    "search_bar.send_keys('cars')                                  \n",
    "search_button = driver.find_element_by_xpath('//span[@class=\"z1asCe MZy1Rb\"]')\n",
    "search_button.click()"
   ]
  },
  {
   "cell_type": "code",
   "execution_count": 22,
   "metadata": {},
   "outputs": [
    {
     "name": "stdout",
     "output_type": "stream",
     "text": [
      "https://www.google.com/imgres?imgurl=https%3A%2F%2Fspecials-images.forbesimg.com%2Fimageserve%2F5d3703e2f1176b00089761a6%2F960x0.jpg%3FcropX1%3D836%26cropX2%3D5396%26cropY1%3D799%26cropY2%3D3364&imgrefurl=https%3A%2F%2Fwww.forbes.com%2Fsites%2Fjimgorzelany%2F2019%2F07%2F23%2Fhere-are-the-coolest-new-cars-for-2020%2F&tbnid=2HR6gA81oIwMTM&vet=12ahUKEwjj7OmOg4DxAhW9nksFHWjzDrMQMygAegUIARDOAQ..i&docid=HZLLyFhoQjvNCM&w=960&h=540&q=cars&ved=2ahUKEwjj7OmOg4DxAhW9nksFHWjzDrMQMygAegUIARDOAQ\n",
      "None\n",
      "None\n",
      "None\n",
      "None\n",
      "None\n",
      "None\n",
      "None\n",
      "None\n",
      "None\n",
      "None\n",
      "None\n",
      "None\n",
      "None\n",
      "None\n",
      "None\n",
      "None\n",
      "None\n",
      "None\n",
      "None\n",
      "None\n",
      "None\n",
      "None\n",
      "None\n",
      "None\n",
      "None\n",
      "None\n",
      "None\n",
      "None\n",
      "None\n",
      "None\n",
      "None\n",
      "None\n",
      "None\n",
      "None\n",
      "None\n",
      "None\n",
      "None\n",
      "None\n",
      "None\n",
      "None\n",
      "None\n",
      "None\n",
      "None\n",
      "None\n",
      "None\n",
      "None\n",
      "None\n"
     ]
    }
   ],
   "source": [
    "urls = driver.find_elements_by_xpath(\"//a[@class='wXeWr islib nfEiy mM5pbd']\")\n",
    "\n",
    "for urls in urls[0:100]:\n",
    "        driver.find_element_by_xpath(\"//div[@class='bRMDJf islir']\").click()\n",
    "        \n",
    "        print(urls.get_attribute(\"href\"))"
   ]
  },
  {
   "cell_type": "code",
   "execution_count": 23,
   "metadata": {},
   "outputs": [],
   "source": [
    "driver = webdriver.Chrome(r\"C:\\Users\\anshu\\Downloads\\chromedriver_win32\\chromedriver.exe\")"
   ]
  },
  {
   "cell_type": "code",
   "execution_count": 24,
   "metadata": {},
   "outputs": [],
   "source": [
    "driver.get('https://images.google.com/?gws_rd=ssl')"
   ]
  },
  {
   "cell_type": "code",
   "execution_count": 25,
   "metadata": {},
   "outputs": [],
   "source": [
    "search_bar = driver.find_element_by_xpath('//input[@class=\"gLFyf gsfi\"]')\n",
    "search_bar.clear()\n",
    "search_bar.send_keys('‘Machine Learning')                                  \n",
    "search_button = driver.find_element_by_xpath('//span[@class=\"z1asCe MZy1Rb\"]')\n",
    "search_button.click()"
   ]
  },
  {
   "cell_type": "code",
   "execution_count": 26,
   "metadata": {},
   "outputs": [
    {
     "name": "stdout",
     "output_type": "stream",
     "text": [
      "https://www.google.com/imgres?imgurl=https%3A%2F%2Fthumbor.forbes.com%2Fthumbor%2F960x0%2Fhttps%253A%252F%252Fspecials-images.forbesimg.com%252Fdam%252Fimageserve%252F966248982%252F960x0.jpg%253Ffit%253Dscale&imgrefurl=https%3A%2F%2Fwww.forbes.com%2Fsites%2Fkalevleetaru%2F2019%2F01%2F15%2Fwhy-machine-learning-needs-semantics-not-just-statistics%2F&tbnid=ZJ1GOgTF0Or3iM&vet=12ahUKEwi4j4Lmg4DxAhX7pksFHVOhBxAQMygAegUIARDOAQ..i&docid=AEohAx4yXGBiGM&w=960&h=618&q=%E2%80%98Machine%20Learning&ved=2ahUKEwi4j4Lmg4DxAhX7pksFHVOhBxAQMygAegUIARDOAQ\n",
      "None\n",
      "None\n",
      "None\n",
      "None\n",
      "None\n",
      "None\n",
      "None\n",
      "None\n",
      "None\n",
      "None\n",
      "None\n",
      "None\n",
      "None\n",
      "None\n",
      "None\n",
      "None\n",
      "None\n",
      "None\n",
      "None\n",
      "None\n",
      "None\n",
      "None\n",
      "None\n",
      "None\n",
      "None\n",
      "None\n",
      "None\n",
      "None\n",
      "None\n",
      "None\n",
      "None\n",
      "None\n",
      "None\n",
      "None\n",
      "None\n",
      "None\n",
      "None\n",
      "None\n",
      "None\n",
      "None\n",
      "None\n",
      "None\n",
      "None\n",
      "None\n",
      "None\n",
      "None\n",
      "None\n"
     ]
    }
   ],
   "source": [
    "urls = driver.find_elements_by_xpath(\"//a[@class='wXeWr islib nfEiy mM5pbd']\")\n",
    "\n",
    "\n",
    "for urls in urls[0:100]:  \n",
    "    \n",
    "        driver.find_element_by_xpath(\"//div[@class='bRMDJf islir']\").click()\n",
    "       \n",
    "        print(urls.get_attribute(\"href\"))"
   ]
  },
  {
   "cell_type": "markdown",
   "metadata": {},
   "source": [
    "# Q4.Write a program to scrap all the available details of top 10 gaming laptops from digit.in.¶"
   ]
  },
  {
   "cell_type": "code",
   "execution_count": 55,
   "metadata": {},
   "outputs": [],
   "source": [
    "driver = webdriver.Chrome(r\"C:\\Users\\anshu\\Downloads\\chromedriver_win32\\chromedriver.exe\")"
   ]
  },
  {
   "cell_type": "code",
   "execution_count": 56,
   "metadata": {},
   "outputs": [],
   "source": [
    "driver.get('https://www.digit.in/')"
   ]
  },
  {
   "cell_type": "code",
   "execution_count": 57,
   "metadata": {},
   "outputs": [],
   "source": [
    "b=[]"
   ]
  },
  {
   "cell_type": "code",
   "execution_count": 58,
   "metadata": {},
   "outputs": [],
   "source": [
    "c_btn = driver.find_elements_by_xpath(\"//input[@type='checkbox']\")\n",
    "c_btn[0].click()"
   ]
  },
  {
   "cell_type": "code",
   "execution_count": 59,
   "metadata": {},
   "outputs": [],
   "source": [
    "driver.get('https://www.digit.in/laptops')"
   ]
  },
  {
   "cell_type": "code",
   "execution_count": 60,
   "metadata": {},
   "outputs": [],
   "source": [
    "driver.get('https://www.digit.in/top-products/best-gaming-laptops-40.html')"
   ]
  },
  {
   "cell_type": "code",
   "execution_count": 61,
   "metadata": {},
   "outputs": [],
   "source": [
    "z=driver.find_elements_by_xpath(\"//table[@id='summtable']\")\n",
    "for i in z:\n",
    "    b.append(i.text)"
   ]
  },
  {
   "cell_type": "code",
   "execution_count": 62,
   "metadata": {},
   "outputs": [
    {
     "data": {
      "text/plain": [
       "['PRODUCT NAME SELLER PRICE\\nAlienware Area 51M R2 N/A N/A\\nAlienware m15 R3 N/A ₹341990\\nASUS ROG Strix Scar 15 N/A N/A\\nAsus ROG Zephyrus G14 amazon ₹164990\\nLenovo Legion 5i N/A ₹71990\\nASUS ROG ZEPHYRUS DUO 15 amazon ₹199990\\nAcer Aspire 7 gaming N/A ₹56990']"
      ]
     },
     "execution_count": 62,
     "metadata": {},
     "output_type": "execute_result"
    }
   ],
   "source": [
    "b[0:10]"
   ]
  },
  {
   "cell_type": "code",
   "execution_count": null,
   "metadata": {},
   "outputs": [],
   "source": []
  }
 ],
 "metadata": {
  "kernelspec": {
   "display_name": "Python 3",
   "language": "python",
   "name": "python3"
  },
  "language_info": {
   "codemirror_mode": {
    "name": "ipython",
    "version": 3
   },
   "file_extension": ".py",
   "mimetype": "text/x-python",
   "name": "python",
   "nbconvert_exporter": "python",
   "pygments_lexer": "ipython3",
   "version": "3.8.5"
  }
 },
 "nbformat": 4,
 "nbformat_minor": 4
}
